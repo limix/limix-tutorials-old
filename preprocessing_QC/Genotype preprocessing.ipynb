{
 "metadata": {
  "name": "",
  "signature": "sha256:f2df07146ee195e020378befc751a88d2a4317790a414d306149718b703fc742"
 },
 "nbformat": 3,
 "nbformat_minor": 0,
 "worksheets": [
  {
   "cells": [
    {
     "cell_type": "heading",
     "level": 1,
     "metadata": {},
     "source": [
      "Genotype preprocessing can be handled using vcftools"
     ]
    },
    {
     "cell_type": "markdown",
     "metadata": {},
     "source": [
      "VCFtools can be used to display basic statistics about genotpye data.\n",
      "\n",
      "> vcftools --gzvcf ./data/1000g/ALL.chr20.phase3_shapeit2_mvncall_integrated_v2.20130502.genotypes.vcf.gz "
     ]
    },
    {
     "cell_type": "markdown",
     "metadata": {},
     "source": [
      "As an example, consider the 1000genomes SNPs in \"data\"\n",
      "The following command will filter raw 1000genomes variants, remove indels and filter for 0.1 minor allele frequency, writing the results intoa  new files\n",
      "\n",
      "> vcftools --gzvcf ./data/1000g/ALL.chr20.phase3_shapeit2_mvncall_integrated_v2.20130502.genotypes.vcf.gz --remove-indels --recode --maf 0.1 --stdout | gzip -c > ./test.vcf.gz "
     ]
    },
    {
     "cell_type": "markdown",
     "metadata": {},
     "source": [
      "VCF files can also be reimported into the LIMIX-internal hdf5 file format:\n",
      "> vcftools --vcfgz ./test.vcf.gz --012 --out ./test\n",
      "\n",
      "> limix_converter --g012=./test.012 -O ./test.hdf5"
     ]
    },
    {
     "cell_type": "code",
     "collapsed": false,
     "input": [],
     "language": "python",
     "metadata": {},
     "outputs": []
    }
   ],
   "metadata": {}
  }
 ]
}
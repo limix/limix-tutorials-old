{
 "cells": [
  {
   "cell_type": "markdown",
   "metadata": {},
   "source": [
    "# Using iSet in Python"
   ]
  },
  {
   "cell_type": "markdown",
   "metadata": {},
   "source": [
    "Set tests are a powerful approach for association testing between groups of genetic variants and quantitative traits.\n",
    "iSet can be applied for interaction analysis in two data designs:\n",
    "* [complete design](#Complete-design), where all individuals have been phenotyped in each context\n",
    "* [stratified design](#Stratified-design), where each individual has been phenotyped in only one of the two contexts\n",
    "\n",
    "A detailed description of the method can be found at [1].\n",
    "\n",
    "In this tutorial we showcase the usage of iSet, efficient set tests for gene-context interactions in Pyhton.\n",
    "\n",
    "iSet can be also used from command line as we describe in this [iPython notebook](iSet_commandline.ipynb)."
   ]
  },
  {
   "cell_type": "markdown",
   "metadata": {},
   "source": [
    "The tutorial requires sample data at http://www.ebi.ac.uk/~casale/data.zip, which can be obtained running the following commands\n",
    "```bash\n",
    "wget http://www.ebi.ac.uk/~casale/data.zip\n",
    "unzip data.zip\n",
    "```"
   ]
  },
  {
   "cell_type": "markdown",
   "metadata": {},
   "source": [
    "\n",
    "## Complete design"
   ]
  },
  {
   "cell_type": "markdown",
   "metadata": {},
   "source": [
    "iSet is an extension of mtSet that allows to test for polygenic interactions with environment or other contexts. iSet can be applied in designs where all individuals have been phenotyped in each context (complete design) as well as for populations that have been stratified by a context variable (stratified design). We will here see first an application of iSet for analysis of complete designs, and then an application for the analysis of stratified design in the next section."
   ]
  },
  {
   "cell_type": "markdown",
   "metadata": {},
   "source": [
    "### Setting up"
   ]
  },
  {
   "cell_type": "code",
   "execution_count": 7,
   "metadata": {},
   "outputs": [],
   "source": [
    "# activiate inline plotting\n",
    "%matplotlib inline\n",
    "\n",
    "import scipy as sp\n",
    "import scipy.linalg\n",
    "import pandas as pd\n",
    "from limix.iset import fit_iSet\n",
    "from limix.data import BedReader, build_geno_query\n",
    "from limix.util import sets_from_bim\n",
    "from limix.util import unique_variants\n",
    "import time"
   ]
  },
  {
   "cell_type": "markdown",
   "metadata": {},
   "source": [
    "### Download data"
   ]
  },
  {
   "cell_type": "code",
   "execution_count": 8,
   "metadata": {},
   "outputs": [
    {
     "data": {
      "text/plain": [
       "256"
      ]
     },
     "execution_count": 8,
     "metadata": {},
     "output_type": "execute_result"
    }
   ],
   "source": [
    "import os\n",
    "os.system('wget http://www.ebi.ac.uk/~casale/data.zip')\n",
    "os.system('unzip data.zip')"
   ]
  },
  {
   "cell_type": "markdown",
   "metadata": {},
   "source": [
    "### Import bed file"
   ]
  },
  {
   "cell_type": "markdown",
   "metadata": {},
   "source": [
    "We here use the class ``limix.bed.reader`` to read and query bed files. See [here][1] for more info.\n",
    "[1]:http://limix.readthedocs.io/data.html#limix.data.BedReader"
   ]
  },
  {
   "cell_type": "code",
   "execution_count": 9,
   "metadata": {},
   "outputs": [],
   "source": [
    "# import bed file\n",
    "bfile = 'data/chrom22_subsample20_maf0.10'\n",
    "reader = BedReader(bfile)\n",
    "bim = reader.getSnpInfo()"
   ]
  },
  {
   "cell_type": "markdown",
   "metadata": {},
   "source": [
    "### Defines variant-sets"
   ]
  },
  {
   "cell_type": "code",
   "execution_count": 10,
   "metadata": {},
   "outputs": [
    {
     "name": "stdout",
     "output_type": "stream",
     "text": [
      "                  setid chrom     start       end nsnps\n",
      "0  22:16050612-16100612    22  16050612  16100612    23\n",
      "1  22:16100612-16150612    22  16100612  16150612     4\n",
      "2  22:16125612-16175612    22  16125612  16175612     7\n",
      "3  22:16225612-16275612    22  16225612  16275612     9\n",
      "4  22:16250612-16300612    22  16250612  16300612    16\n"
     ]
    }
   ],
   "source": [
    "# defines sets using a sliding-window approach.\n",
    "# window size = 50kb\n",
    "# step = 25kb\n",
    "# exclude regions with less than 4 variants.\n",
    "sets = sets_from_bim(bim, size=50000, step=25000, minSnps=4)\n",
    "print sets.head()"
   ]
  },
  {
   "cell_type": "markdown",
   "metadata": {},
   "source": [
    "``sets`` is a ``pandas.DataFrame``, where the rows are the different regions and the columns are the chromsome of the genomic region (chr), the start (start), the end (end) and the corresponding number of variants within the region.\n",
    "\n",
    "See ``limix.util.sets_from_bim`` ([here][1]) for more info.\n",
    "\n",
    "[1]: https://limix.readthedocs.io/util.html#limix.util.sets_from_bim"
   ]
  },
  {
   "cell_type": "markdown",
   "metadata": {},
   "source": [
    "### Apply"
   ]
  },
  {
   "cell_type": "markdown",
   "metadata": {},
   "source": [
    "Import phenotype data for $N=274$ individuals in $C=2$ contexts and the covariates to account.\n",
    "The covariates include the first 10 principal components of the genetic relatedness matrix and\n",
    "an intercept term ($K=11$ covariates in total)."
   ]
  },
  {
   "cell_type": "code",
   "execution_count": 11,
   "metadata": {},
   "outputs": [],
   "source": [
    "pheno_file = './data/pheno.phe'\n",
    "covs_file = './data/covs.fe'\n",
    "Y = sp.loadtxt(pheno_file, usecols=(0,1))\n",
    "covs = sp.loadtxt(covs_file)"
   ]
  },
  {
   "cell_type": "markdown",
   "metadata": {},
   "source": [
    "We here showcase how to run iSet on $T=10$ region-sets and $J=10$ parametric bootstrapts/permutations.\n",
    "This last parameter determines the minimum P value that can be estimated.\n",
    "For example, for $J=10$ and $T=10$ tests, the minimum P value is $1/JT=10^{-2}$.\n",
    "\n",
    "The core function of the analysis is ``limix.iSet.fit_iSet``.\n",
    "See [here][1] for more info.\n",
    "\n",
    "[1]: https://limix.readthedocs.io/iSet.html"
   ]
  },
  {
   "cell_type": "code",
   "execution_count": 12,
   "metadata": {},
   "outputs": [
    {
     "name": "stderr",
     "output_type": "stream",
     "text": [
      "/Users/casale/anaconda/lib/python2.7/site-packages/ipykernel_launcher.py:14: DeprecationWarning: \n",
      ".ix is deprecated. Please use\n",
      ".loc for label based indexing or\n",
      ".iloc for positional indexing\n",
      "\n",
      "See the documentation here:\n",
      "http://pandas.pydata.org/pandas-docs/stable/indexing.html#deprecate_ix\n",
      "  \n",
      "/Users/casale/anaconda/lib/python2.7/site-packages/dask/core.py:306: FutureWarning: elementwise comparison failed; returning scalar instead, but in the future will perform elementwise comparison\n",
      "  elif type_arg is type(key) and arg == key:\n"
     ]
    },
    {
     "name": "stdout",
     "output_type": "stream",
     "text": [
      ".. set 0: 22:16050612-16100612\n",
      "Elapsed: 17.8559930325\n",
      ".. set 1: 22:16100612-16150612\n",
      "Elapsed: 11.814150095\n",
      ".. set 2: 22:16125612-16175612\n",
      "Elapsed: 11.5288190842\n",
      ".. set 3: 22:16225612-16275612\n",
      "Elapsed: 11.3224480152\n",
      ".. set 4: 22:16250612-16300612\n",
      "Elapsed: 10.4916861057\n",
      ".. set 5: 22:16275612-16325612\n",
      "Elapsed: 9.95366406441\n",
      ".. set 6: 22:16300612-16350612\n",
      "Elapsed: 11.1907320023\n",
      ".. set 7: 22:16325612-16375612\n",
      "Elapsed: 11.589427948\n",
      ".. set 8: 22:16350612-16400612\n",
      "Elapsed: 10.751955986\n",
      ".. set 9: 22:16475612-16525612\n",
      "Elapsed: 10.2300629616\n"
     ]
    }
   ],
   "source": [
    "i0 = 0 # start window\n",
    "i1 = 10 # end window\n",
    "\n",
    "n_nulls = 10 # number of bootstrapts/permutations \n",
    "\n",
    "# output is stored in pandas DataFrame\n",
    "df = pd.DataFrame()\n",
    "df0 = pd.DataFrame()\n",
    "\n",
    "for wnd_i in sp.arange(i0, i1):\n",
    "    \n",
    "    t0 = time.time()\n",
    "\n",
    "    _set = sets.ix[wnd_i]\n",
    "    print('.. set %d: %s' % (wnd_i, _set['setid']))\n",
    "    \n",
    "    gquery = build_geno_query(pos_start=_set['start'],\n",
    "                              pos_end=_set['end'],\n",
    "                              chrom=_set['chrom'])\n",
    "    Xr = reader.getGenotypes(gquery, impute=True)\n",
    "    \n",
    "    # consider only unique variants and normalize\n",
    "    Xr = unique_variants(Xr)\n",
    "    Xr-= Xr.mean(0); Xr/= Xr.std(0)\n",
    "    Xr/= sp.sqrt(Xr.shape[1])\n",
    "\n",
    "    # run iSet\n",
    "    _df, _df0 = fit_iSet(Y, F=covs, Xr=Xr, n_nulls=10)\n",
    "    df  = df.append(_df, ignore_index=True)\n",
    "    df0 = df0.append(_df0, ignore_index=True)\n",
    "    \n",
    "    print 'Elapsed:', time.time()-t0"
   ]
  },
  {
   "cell_type": "markdown",
   "metadata": {},
   "source": [
    "The dataframe df contains log likelihood ratio scores for the different models, variance component attributable to persistent rescaling-GxC and heterogeneity-GxC."
   ]
  },
  {
   "cell_type": "code",
   "execution_count": 13,
   "metadata": {},
   "outputs": [
    {
     "data": {
      "text/html": [
       "<div>\n",
       "<style>\n",
       "    .dataframe thead tr:only-child th {\n",
       "        text-align: right;\n",
       "    }\n",
       "\n",
       "    .dataframe thead th {\n",
       "        text-align: left;\n",
       "    }\n",
       "\n",
       "    .dataframe tbody tr th {\n",
       "        vertical-align: top;\n",
       "    }\n",
       "</style>\n",
       "<table border=\"1\" class=\"dataframe\">\n",
       "  <thead>\n",
       "    <tr style=\"text-align: right;\">\n",
       "      <th></th>\n",
       "      <th>Heterogeneity-GxC var</th>\n",
       "      <th>Persistent Var</th>\n",
       "      <th>Rescaling-GxC Var</th>\n",
       "      <th>iSet LLR</th>\n",
       "      <th>iSet-het LLR</th>\n",
       "      <th>mtSet LLR</th>\n",
       "    </tr>\n",
       "  </thead>\n",
       "  <tbody>\n",
       "    <tr>\n",
       "      <th>0</th>\n",
       "      <td>0.007778</td>\n",
       "      <td>0.010084</td>\n",
       "      <td>5.555688e-03</td>\n",
       "      <td>0.557223</td>\n",
       "      <td>3.394004e-01</td>\n",
       "      <td>1.605852e+00</td>\n",
       "    </tr>\n",
       "    <tr>\n",
       "      <th>1</th>\n",
       "      <td>0.000050</td>\n",
       "      <td>0.000050</td>\n",
       "      <td>2.192487e-15</td>\n",
       "      <td>0.004991</td>\n",
       "      <td>-1.070930e-09</td>\n",
       "      <td>-1.116859e-09</td>\n",
       "    </tr>\n",
       "    <tr>\n",
       "      <th>2</th>\n",
       "      <td>0.000050</td>\n",
       "      <td>0.000050</td>\n",
       "      <td>4.880160e-10</td>\n",
       "      <td>0.007582</td>\n",
       "      <td>-8.327913e-07</td>\n",
       "      <td>-8.328692e-07</td>\n",
       "    </tr>\n",
       "    <tr>\n",
       "      <th>3</th>\n",
       "      <td>0.000050</td>\n",
       "      <td>0.006019</td>\n",
       "      <td>1.255351e-02</td>\n",
       "      <td>2.000503</td>\n",
       "      <td>4.817622e-09</td>\n",
       "      <td>2.296838e+00</td>\n",
       "    </tr>\n",
       "  </tbody>\n",
       "</table>\n",
       "</div>"
      ],
      "text/plain": [
       "   Heterogeneity-GxC var  Persistent Var  Rescaling-GxC Var  iSet LLR  \\\n",
       "0               0.007778        0.010084       5.555688e-03  0.557223   \n",
       "1               0.000050        0.000050       2.192487e-15  0.004991   \n",
       "2               0.000050        0.000050       4.880160e-10  0.007582   \n",
       "3               0.000050        0.006019       1.255351e-02  2.000503   \n",
       "\n",
       "   iSet-het LLR     mtSet LLR  \n",
       "0  3.394004e-01  1.605852e+00  \n",
       "1 -1.070930e-09 -1.116859e-09  \n",
       "2 -8.327913e-07 -8.328692e-07  \n",
       "3  4.817622e-09  2.296838e+00  "
      ]
     },
     "execution_count": 13,
     "metadata": {},
     "output_type": "execute_result"
    }
   ],
   "source": [
    "df.head(4)"
   ]
  },
  {
   "cell_type": "markdown",
   "metadata": {},
   "source": [
    "The dataframe df0 contains log likelihood ratios when data are from the null. These are necessary to iSet to calculate P values."
   ]
  },
  {
   "cell_type": "code",
   "execution_count": 14,
   "metadata": {},
   "outputs": [
    {
     "data": {
      "text/html": [
       "<div>\n",
       "<style>\n",
       "    .dataframe thead tr:only-child th {\n",
       "        text-align: right;\n",
       "    }\n",
       "\n",
       "    .dataframe thead th {\n",
       "        text-align: left;\n",
       "    }\n",
       "\n",
       "    .dataframe tbody tr th {\n",
       "        vertical-align: top;\n",
       "    }\n",
       "</style>\n",
       "<table border=\"1\" class=\"dataframe\">\n",
       "  <thead>\n",
       "    <tr style=\"text-align: right;\">\n",
       "      <th></th>\n",
       "      <th>iSet LLR0</th>\n",
       "      <th>iSet-het LLR0</th>\n",
       "      <th>mtSet LLR0</th>\n",
       "    </tr>\n",
       "  </thead>\n",
       "  <tbody>\n",
       "    <tr>\n",
       "      <th>0</th>\n",
       "      <td>1.059086</td>\n",
       "      <td>6.400152e-07</td>\n",
       "      <td>1.007095e+00</td>\n",
       "    </tr>\n",
       "    <tr>\n",
       "      <th>1</th>\n",
       "      <td>0.068069</td>\n",
       "      <td>1.221923e-08</td>\n",
       "      <td>4.895492e-01</td>\n",
       "    </tr>\n",
       "    <tr>\n",
       "      <th>2</th>\n",
       "      <td>0.064703</td>\n",
       "      <td>1.842262e-06</td>\n",
       "      <td>2.116557e-01</td>\n",
       "    </tr>\n",
       "    <tr>\n",
       "      <th>3</th>\n",
       "      <td>0.555666</td>\n",
       "      <td>-2.679738e-08</td>\n",
       "      <td>-2.949605e-10</td>\n",
       "    </tr>\n",
       "  </tbody>\n",
       "</table>\n",
       "</div>"
      ],
      "text/plain": [
       "   iSet LLR0  iSet-het LLR0    mtSet LLR0\n",
       "0   1.059086   6.400152e-07  1.007095e+00\n",
       "1   0.068069   1.221923e-08  4.895492e-01\n",
       "2   0.064703   1.842262e-06  2.116557e-01\n",
       "3   0.555666  -2.679738e-08 -2.949605e-10"
      ]
     },
     "execution_count": 14,
     "metadata": {},
     "output_type": "execute_result"
    }
   ],
   "source": [
    "df0.head(4)"
   ]
  },
  {
   "cell_type": "markdown",
   "metadata": {},
   "source": [
    "### Variance Component Plot"
   ]
  },
  {
   "cell_type": "code",
   "execution_count": 17,
   "metadata": {},
   "outputs": [
    {
     "data": {
      "text/plain": [
       "<matplotlib.collections.PolyCollection at 0x11f180390>"
      ]
     },
     "execution_count": 17,
     "metadata": {},
     "output_type": "execute_result"
    },
    {
     "data": {
      "image/png": "[encoded data removed]",
      "text/plain": [
       "<matplotlib.figure.Figure at 0x11eb6b750>"
      ]
     },
     "metadata": {},
     "output_type": "display_data"
    }
   ],
   "source": [
    "import pylab as pl\n",
    "tot_var = df['Persistent Var'].values + df['Rescaling-GxC Var'].values + df['Heterogeneity-GxC var'].values\n",
    "nohet_var = df['Persistent Var'].values + df['Rescaling-GxC Var'].values\n",
    "n_wnds = df.shape[0]\n",
    "wnd_start = sets['start'].values[:n_wnds].astype(int)\n",
    "pl.fill_between(wnd_start, 0, df['Persistent Var'].values, color='gray')\n",
    "pl.fill_between(wnd_start, df['Persistent Var'].values, nohet_var, color='Orange')\n",
    "pl.fill_between(wnd_start, nohet_var, tot_var, color='Gold')"
   ]
  },
  {
   "cell_type": "markdown",
   "metadata": {},
   "source": [
    "### P-values\n",
    "\n",
    "For each test, empirical P values can be computed from the test statistics observed on the data and the null testistics using ``limix.stats.empirical_pvalues``.\n",
    "See [here][1] for more info.\n",
    "\n",
    "[1]: https://limix.readthedocs.io/stats.html#limix.stats.empirical_pvalues"
   ]
  },
  {
   "cell_type": "code",
   "execution_count": 18,
   "metadata": {
    "collapsed": true
   },
   "outputs": [],
   "source": [
    "from limix.stats import empirical_pvalues\n",
    "#calculate P values for the three tests\n",
    "for test in ['mtSet', 'iSet', 'iSet-het']:\n",
    "    df[test+' pv'] = empirical_pvalues(df[test+' LLR'].values, df0[test+' LLR0'].values)"
   ]
  },
  {
   "cell_type": "code",
   "execution_count": 19,
   "metadata": {},
   "outputs": [
    {
     "data": {
      "text/plain": [
       "[<matplotlib.lines.Line2D at 0x11f2c3cd0>]"
      ]
     },
     "execution_count": 19,
     "metadata": {},
     "output_type": "execute_result"
    },
    {
     "data": {
      "image/png": "[encoded data removed]",
      "text/plain": [
       "<matplotlib.figure.Figure at 0x11f1b3e10>"
      ]
     },
     "metadata": {},
     "output_type": "display_data"
    }
   ],
   "source": [
    "#makes a manhattan plot\n",
    "wnd_start = sets['start'].values[:n_wnds].astype(int)\n",
    "import pylab as pl\n",
    "pl.plot(wnd_start, -sp.log10(df['mtSet pv'].values), 'o', color='DarkGreen')\n",
    "pl.plot(wnd_start, -sp.log10(df['iSet pv'].values), 'o', color='DarkRed')\n",
    "pl.plot(wnd_start, -sp.log10(df['iSet-het pv'].values), 'o', color='Gold')"
   ]
  },
  {
   "cell_type": "markdown",
   "metadata": {},
   "source": [
    "## Stratified design\n",
    "\n",
    "iSet is an extension of mtSet that allows to test for polygenic interactions with environment or other contexts.\n",
    "iSet can be applied in designs where all individuals have been phenotyped in each context (complete design) as well as for populations that have been stratified by a context variable (stratified design).\n",
    "We will here see application of iSet for analysis of stratified designs."
   ]
  },
  {
   "cell_type": "markdown",
   "metadata": {},
   "source": [
    "### Import pheno data and covariates"
   ]
  },
  {
   "cell_type": "markdown",
   "metadata": {},
   "source": [
    "Import phenotype data for $N=274$ individuals, each phenotyped in one of in $C=2$ contexts."
   ]
  },
  {
   "cell_type": "code",
   "execution_count": 20,
   "metadata": {},
   "outputs": [],
   "source": [
    "# import phenotype and sample relatedness\n",
    "pheno_file = './data/pheno.phe'\n",
    "Y = sp.loadtxt(pheno_file, usecols=[0])[:,sp.newaxis]"
   ]
  },
  {
   "cell_type": "markdown",
   "metadata": {},
   "source": [
    "We also need to define a boolean ndarray indicator that specifies in which context each individuals is phenotyped.\n",
    "For example, if we suppose that the first half of the individuals are phenotyped in context A and the second half in context B, we have:"
   ]
  },
  {
   "cell_type": "code",
   "execution_count": 21,
   "metadata": {
    "collapsed": true
   },
   "outputs": [],
   "source": [
    "Ie = sp.arange(Y.shape[0])<0.5*Y.shape[0]"
   ]
  },
  {
   "cell_type": "markdown",
   "metadata": {},
   "source": [
    "The covariates include the first 10 principal components of the genetic relatedness matrix and\n",
    "an intercept term ($K=11$ covariates in total)."
   ]
  },
  {
   "cell_type": "code",
   "execution_count": 22,
   "metadata": {
    "collapsed": true
   },
   "outputs": [],
   "source": [
    "covs_file = './data/covs.fe'\n",
    "covs = sp.loadtxt(covs_file)"
   ]
  },
  {
   "cell_type": "markdown",
   "metadata": {},
   "source": [
    "### Apply iSet"
   ]
  },
  {
   "cell_type": "markdown",
   "metadata": {},
   "source": [
    "We here showcase how to run iSet on $T=10$ region-sets and $J=10$ parametric bootstrapts/permutations.\n",
    "This last parameter determines the minimum P value that can be estimated.\n",
    "For example, for $J=10$ and $T=10$ tests, the minimum P value is $1/JT=10^{-2}$.\n",
    "\n",
    "The core function of the analysis is ``limix.iSet.fit_iSet``.\n",
    "See [here][1] for more info.\n",
    "\n",
    "[1]: https://limix.readthedocs.io/iSet.html"
   ]
  },
  {
   "cell_type": "code",
   "execution_count": 23,
   "metadata": {},
   "outputs": [
    {
     "name": "stdout",
     "output_type": "stream",
     "text": [
      ".. set 0: 22:16050612-16100612\n",
      "Elapsed: 4.82151079178\n",
      ".. set 1: 22:16100612-16150612\n",
      "Elapsed: 4.17786693573\n",
      ".. set 2: 22:16125612-16175612\n",
      "Elapsed: 4.65465712547\n",
      ".. set 3: 22:16225612-16275612\n",
      "Elapsed: 4.51523804665\n",
      ".. set 4: 22:16250612-16300612\n",
      "Elapsed: 4.8499519825\n",
      ".. set 5: 22:16275612-16325612\n",
      "Elapsed: 4.44450306892\n",
      ".. set 6: 22:16300612-16350612\n",
      "Elapsed: 4.30253005028\n",
      ".. set 7: 22:16325612-16375612\n",
      "Elapsed: 4.19403219223\n",
      ".. set 8: 22:16350612-16400612\n",
      "Elapsed: 4.16450810432\n",
      ".. set 9: 22:16475612-16525612\n",
      "Elapsed: 3.87074303627\n"
     ]
    }
   ],
   "source": [
    "i0 = 0 # start window\n",
    "i1 = 10 # end window\n",
    "\n",
    "n_nulls = 10 # number of bootstrapts/permutations \n",
    "\n",
    "# output is stored in pandas DataFrame\n",
    "df = pd.DataFrame()\n",
    "df0 = pd.DataFrame()\n",
    "\n",
    "for wnd_i in sp.arange(i0, i1):\n",
    "    \n",
    "    t0 = time.time()\n",
    "\n",
    "    _set = sets.ix[wnd_i]\n",
    "    print('.. set %d: %s' % (wnd_i, _set['setid']))\n",
    "\n",
    "    gquery = build_geno_query(pos_start=_set['start'],\n",
    "                              pos_end=_set['end'],\n",
    "                              chrom=_set['chrom'])\n",
    "    Xr = reader.getGenotypes(gquery, impute=True)\n",
    "    \n",
    "    # consider only unique variants and normalize\n",
    "    Xr = unique_variants(Xr)\n",
    "    Xr-= Xr.mean(0); Xr/= Xr.std(0)\n",
    "    Xr/= sp.sqrt(Xr.shape[1])\n",
    "\n",
    "    # run iSet\n",
    "    _df, _df0 = fit_iSet(Y, F=covs, Xr=Xr, Ie=Ie, n_nulls=10)\n",
    "    df  = df.append(_df, ignore_index=True)\n",
    "    df0 = df0.append(_df0, ignore_index=True)\n",
    "    \n",
    "    print 'Elapsed:', time.time()-t0"
   ]
  },
  {
   "cell_type": "markdown",
   "metadata": {},
   "source": [
    "The dataframes df and df0 have the same structures as in the complete design case.\n",
    "Please see above for the format of the output and plotting examples."
   ]
  },
  {
   "cell_type": "markdown",
   "metadata": {},
   "source": [
    "# Developers\n",
    "\n",
    "- Francesco Paolo Casale (<casale@ebi.ac.uk>)\n",
    "- Danilo Horta (<horta@ebi.ac.uk>)\n",
    "- Barbara Rakitsch (<rakitsch@ebi.ac.uk>)\n",
    "- Oliver Stegle (<stegle@ebi.ac.uk>)"
   ]
  },
  {
   "cell_type": "markdown",
   "metadata": {},
   "source": [
    "## References\n",
    "[1] Casale FP, Horta D, Rakitsch B, Stegle O. Joint genetic analysis using variant sets reveals polygenic gene-context interactions. PLoS Genetics. 2017. ([link](http://journals.plos.org/plosgenetics/article?id=10.1371/journal.pgen.1006693))"
   ]
  },
  {
   "cell_type": "code",
   "execution_count": null,
   "metadata": {
    "collapsed": true
   },
   "outputs": [],
   "source": []
  }
 ],
 "metadata": {
  "anaconda-cloud": {},
  "kernelspec": {
   "display_name": "Python 2",
   "language": "python",
   "name": "python2"
  },
  "language_info": {
   "codemirror_mode": {
    "name": "ipython",
    "version": 2
   },
   "file_extension": ".py",
   "mimetype": "text/x-python",
   "name": "python",
   "nbconvert_exporter": "python",
   "pygments_lexer": "ipython2",
   "version": "2.7.13"
  },
  "nav_menu": {},
  "toc": {
   "navigate_menu": true,
   "number_sections": true,
   "sideBar": true,
   "threshold": 6,
   "toc_cell": false,
   "toc_section_display": "block",
   "toc_window_display": true
  },
  "toc_position": {
   "height": "1211px",
   "left": "0px",
   "right": "auto",
   "top": "106px",
   "width": "215px"
  }
 },
 "nbformat": 4,
 "nbformat_minor": 1
}

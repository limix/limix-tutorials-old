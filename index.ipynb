{
 "cells": [
  {
   "cell_type": "markdown",
   "metadata": {},
   "source": [
    "# Genotype to phenotpye mapping tutorials using LIMIX"
   ]
  },
  {
   "cell_type": "markdown",
   "metadata": {},
   "source": [
    "We here provide tutorials for common tasks in genotype to phenotye analysis, ranging from raw data processing to complex genetic analyses."
   ]
  },
  {
   "cell_type": "markdown",
   "metadata": {},
   "source": [
    "### Table of Contents\n",
    "\n",
    "1. Preprocessing and Quality control\n",
    "    * [Loading data](preprocessing_QC/loading_files.ipynb)\n",
    "2. Linear regression and false discovery rates\n",
    "    * [Linear regression and multiple testing](linear_regression_FDR/Linear regression.ipynb)\n",
    "3. Linear mixed models and population structure\n",
    "    * [Linear mixed models, example applications](LMM_singletrait/LMM_example.ipynb)\n",
    "4. Multiple trait analyses\n",
    "    * [Multitrait modelling, examples](LMM_multitrait/LMM_multitrait_example.ipynb)\n",
    "5. eQTL mapping and variance decomposition in yeast\n",
    "    * [eQTL mapping and variance decomposition in yeast](eQTL/eQTL_basics.ipynb)\n",
    "6. Multi-trait set test (mtSet)\n",
    "    * [using mtSet from command line](mtSet/mtSet_commandline.ipynb)\n",
    "    * [using mtSet from python](mtSet/mtSet_python.ipynb)\n",
    "7. Interaction set test (iSet)\n",
    "    * [using iSet from command line](iSet/iSet_commandline.ipynb)\n",
    "    * [using iSet from python](iSet/iSet_python.ipynb)"
   ]
  },
  {
   "cell_type": "code",
   "execution_count": null,
   "metadata": {
    "collapsed": true
   },
   "outputs": [],
   "source": []
  }
 ],
 "metadata": {
  "anaconda-cloud": {},
  "kernelspec": {
   "display_name": "Python [default]",
   "language": "python",
   "name": "python2"
  },
  "language_info": {
   "codemirror_mode": {
    "name": "ipython",
    "version": 2
   },
   "file_extension": ".py",
   "mimetype": "text/x-python",
   "name": "python",
   "nbconvert_exporter": "python",
   "pygments_lexer": "ipython2",
   "version": "2.7.12"
  },
  "nav_menu": {},
  "toc": {
   "navigate_menu": true,
   "number_sections": true,
   "sideBar": true,
   "threshold": 6,
   "toc_cell": false,
   "toc_section_display": "block",
   "toc_window_display": false
  }
 },
 "nbformat": 4,
 "nbformat_minor": 0
}
